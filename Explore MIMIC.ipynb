{
 "cells": [
  {
   "cell_type": "markdown",
   "metadata": {},
   "source": [
    "# MIMIC"
   ]
  },
  {
   "cell_type": "code",
   "execution_count": 1,
   "metadata": {},
   "outputs": [],
   "source": [
    "%matplotlib inline\n",
    "import matplotlib.pyplot as plt\n",
    "import sys\n",
    "from collections import defaultdict\n",
    "sys.path.append('/home/datasets/MIMIC/code')\n",
    "from numpy import mean, var"
   ]
  },
  {
   "cell_type": "code",
   "execution_count": 2,
   "metadata": {
    "collapsed": true
   },
   "outputs": [],
   "source": [
    "mimic_file = '/home/datasets/MIMIC/MIMIC2/MIMIC_PREPROCESSED'\n",
    "\n",
    "from tal import mimic_doc_yielder\n",
    "\n",
    "all_codes_per_doc = []\n",
    "all_tokens_per_doc = []\n",
    "num_of_docs = 0\n",
    "for codes, tokens in mimic_doc_yielder(mimic_file):\n",
    "    all_codes_per_doc.append(codes)\n",
    "    all_tokens_per_doc.append(tokens)\n",
    "    num_of_docs += 1"
   ]
  },
  {
   "cell_type": "code",
   "execution_count": 3,
   "metadata": {},
   "outputs": [
    {
     "name": "stdout",
     "output_type": "stream",
     "text": [
      "num of docs 22815\n"
     ]
    }
   ],
   "source": [
    "print 'num of docs', num_of_docs"
   ]
  },
  {
   "cell_type": "code",
   "execution_count": 4,
   "metadata": {},
   "outputs": [
    {
     "name": "stdout",
     "output_type": "stream",
     "text": [
      "tokens stats (total, avg, max, min, var) 33713452 1477.68801227 8130 59 738760.899639\n"
     ]
    }
   ],
   "source": [
    "stat = map(len, all_tokens_per_doc)\n",
    "print 'tokens stats (total, avg, max, min, var)', sum(stat), mean(stat), max(stat), min(stat), var(stat)"
   ]
  },
  {
   "cell_type": "code",
   "execution_count": 5,
   "metadata": {},
   "outputs": [
    {
     "name": "stdout",
     "output_type": "stream",
     "text": [
      "codes stats (total, avg, max, min, var) 215826 9.45982905983 39 1 22.1001504858\n"
     ]
    }
   ],
   "source": [
    "stat = map(len, all_codes_per_doc)\n",
    "print 'codes stats (total, avg, max, min, var)', sum(stat), mean(stat), max(stat), min(stat), var(stat)"
   ]
  },
  {
   "cell_type": "code",
   "execution_count": 6,
   "metadata": {},
   "outputs": [
    {
     "name": "stdout",
     "output_type": "stream",
     "text": [
      "docs per label (total, avg, max, min, var) 215826 42.8992248062 9544 1 64036.6221242\n"
     ]
    }
   ],
   "source": [
    "code_to_num_of_docs = defaultdict(int)\n",
    "for doc in all_codes_per_doc:\n",
    "    for code in doc:\n",
    "        code_to_num_of_docs[code] += 1\n",
    "stat = code_to_num_of_docs.values()\n",
    "print 'docs per label (total, avg, max, min, var)', sum(stat), mean(stat), max(stat), min(stat), var(stat)"
   ]
  },
  {
   "cell_type": "code",
   "execution_count": 7,
   "metadata": {},
   "outputs": [
    {
     "data": {
      "image/png": "[encoded data removed]",
      "text/plain": [
       "<matplotlib.figure.Figure at 0x7f3a39e0ae10>"
      ]
     },
     "metadata": {},
     "output_type": "display_data"
    }
   ],
   "source": [
    "docs_per_label = code_to_num_of_docs.values()\n",
    "docs_per_label = filter(lambda x: x > 49, docs_per_label)\n",
    "docs_per_label.sort(reverse=True)\n",
    "plt.hist(docs_per_label, bins=len(docs_per_label))\n",
    "plt.show()"
   ]
  },
  {
   "cell_type": "code",
   "execution_count": 9,
   "metadata": {},
   "outputs": [
    {
     "name": "stdout",
     "output_type": "stream",
     "text": [
      "598\n"
     ]
    }
   ],
   "source": [
    "print len(docs_per_label)"
   ]
  },
  {
   "cell_type": "code",
   "execution_count": 10,
   "metadata": {},
   "outputs": [
    {
     "name": "stdout",
     "output_type": "stream",
     "text": [
      "50 top labals ['401.9', '414.01', '427.31', '428.0', '250.00', '272.0', '584.9', '518.81', '599.0', '530.81', '486', '272.4', '285.9', '496', '410.71', '507.0', '244.9', '285.1', '424.0', '276.2', '038.9', '997.1', '995.92', '412', '305.1', '424.1', '511.9', '411.1', '518.5', '276.5', '287.5', '403.91', '780.39', 'V45.81', '276.1', 'V58.61', '311', '585.9', '427.89', '427.1', '518.0', '785.52', '584.5', '493.90', '998.11', 'V45.82', '276.0', 'V15.82', '274.9', '998.12']\n"
     ]
    }
   ],
   "source": [
    "labels_count = defaultdict(int)\n",
    "for doc_labels in all_codes_per_doc:\n",
    "    for label in doc_labels:\n",
    "        labels_count[label] += 1\n",
    "count_to_label = map(lambda label: (labels_count[label], label), labels_count.keys())\n",
    "count_to_label.sort(reverse=True)\n",
    "print '50 top labals', map(lambda x: x[1], count_to_label[:50])"
   ]
  },
  {
   "cell_type": "code",
   "execution_count": 11,
   "metadata": {},
   "outputs": [],
   "source": [
    "import nltk\n",
    "import numpy as np\n",
    "def dict_to_probfreq(d):\n",
    "    d = nltk.FreqDist(d)\n",
    "    return nltk.SimpleGoodTuringProbDist(d), d.keys()\n",
    "\n",
    "def kl(p, q, keys):\n",
    "    return sum(map(lambda i: p.prob(i)*np.log(p.prob(i)/q.prob(i)), keys))"
   ]
  },
  {
   "cell_type": "code",
   "execution_count": 35,
   "metadata": {},
   "outputs": [],
   "source": [
    "mimic2_file = '/home/datasets/MIMIC/MIMIC2/MIMIC_PREPROCESSED'\n",
    "mimic3_file = '/home/datasets/MIMIC/MIMIC3/MIMIC_PREPROCESSED'\n",
    "\n",
    "mimic2 = defaultdict(int)\n",
    "mimic3 = defaultdict(int)\n",
    "\n",
    "for codes, tokens in mimic_doc_yielder(mimic2_file):\n",
    "    for code in codes:\n",
    "        mimic2[code] += 1\n",
    "\n",
    "for codes, tokens in mimic_doc_yielder(mimic3_file):\n",
    "    for code in codes:\n",
    "        mimic3[code] += 1\n",
    "        \n",
    "d2, keys2 = dict_to_probfreq(mimic2)\n",
    "d3, keys3 = dict_to_probfreq(mimic3)\n",
    "keys = set(keys2+keys3)\n",
    "print kl(d3, d2, keys)"
   ]
  },
  {
   "cell_type": "code",
   "execution_count": null,
   "metadata": {},
   "outputs": [],
   "source": [
    ""
   ]
  }
 ],
 "metadata": {
  "kernelspec": {
   "display_name": "Python 2",
   "language": "python",
   "name": "python2"
  },
  "language_info": {
   "codemirror_mode": {
    "name": "ipython",
    "version": 2.0
   },
   "file_extension": ".py",
   "mimetype": "text/x-python",
   "name": "python",
   "nbconvert_exporter": "python",
   "pygments_lexer": "ipython2",
   "version": "2.7.6"
  }
 },
 "nbformat": 4,
 "nbformat_minor": 0
}