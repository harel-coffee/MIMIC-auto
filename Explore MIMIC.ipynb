{
 "cells": [
  {
   "cell_type": "markdown",
   "metadata": {},
   "source": [
    "# MIMIC - data exploration"
   ]
  },
  {
   "cell_type": "code",
   "execution_count": 1,
   "metadata": {},
   "outputs": [],
   "source": [
    "%matplotlib inline\n",
    "import matplotlib.pyplot as plt\n",
    "import sys\n",
    "from collections import defaultdict\n",
    "sys.path.append('/home/datasets/MIMIC/code')\n",
    "from numpy import mean, std\n",
    "from __future__ import print_function"
   ]
  },
  {
   "cell_type": "markdown",
   "metadata": {},
   "source": [
    "Declare all used patuh variables"
   ]
  },
  {
   "cell_type": "code",
   "execution_count": 2,
   "metadata": {},
   "outputs": [],
   "source": [
    "mimic_file = '/home/datasets/MIMIC/MIMIC2/MIMIC_PREPROCESSED'\n",
    "ICD9_DESCRIPTIONS = '/home/datasets/MIMIC/ICD9/ICD9_descriptions'\n",
    "CODE_ROUTE = '/home/datasets/MIMIC/MIMIC2/all_codes_with_route'\n",
    "mimic2_file = '/home/datasets/MIMIC/MIMIC2/MIMIC_PREPROCESSED'\n",
    "mimic3_file = '/home/datasets/MIMIC/MIMIC3/MIMIC_PREPROCESSED'"
   ]
  },
  {
   "cell_type": "markdown",
   "metadata": {},
   "source": [
    "Function to preety print statistics"
   ]
  },
  {
   "cell_type": "code",
   "execution_count": 19,
   "metadata": {},
   "outputs": [],
   "source": [
    "def pp_stats(stats):\n",
    "    out_str = ''\n",
    "    for f in [sum, mean, max, min, std]:\n",
    "        out_str += f.__name__+' '+str(f(stats))+'\\n'\n",
    "    return out_str"
   ]
  },
  {
   "cell_type": "markdown",
   "metadata": {},
   "source": [
    "Load MIMIC dataset:  each document is represented by a list of ICD9 codes and a list of tokens.\n",
    "We create one list for tokens and one for codes."
   ]
  },
  {
   "cell_type": "code",
   "execution_count": 13,
   "metadata": {
    "collapsed": true
   },
   "outputs": [],
   "source": [
    "from tal import mimic_doc_yielder\n",
    "\n",
    "all_codes_per_doc = []\n",
    "all_tokens_per_doc = []\n",
    "num_of_docs = 0\n",
    "for codes, tokens in mimic_doc_yielder(mimic_file):\n",
    "    all_codes_per_doc.append(codes)\n",
    "    all_tokens_per_doc.append(tokens)\n",
    "    num_of_docs += 1"
   ]
  },
  {
   "cell_type": "markdown",
   "metadata": {},
   "source": [
    "Load ICD9 codes - map each code to its verbal description."
   ]
  },
  {
   "cell_type": "code",
   "execution_count": 14,
   "metadata": {},
   "outputs": [
    {
     "name": "stdout",
     "output_type": "stream",
     "text": [
      "First code in ICD9: 524.70\n"
     ]
    }
   ],
   "source": [
    "code_to_name = {}\n",
    "\n",
    "for line in open(ICD9_DESCRIPTIONS):\n",
    "    line = line.strip().split('\\t')\n",
    "    code_to_name[line[0]] = line[1]\n",
    "    \n",
    "print('First code in ICD9: '+code_to_name.keys()[0])"
   ]
  },
  {
   "cell_type": "markdown",
   "metadata": {},
   "source": [
    "ICD9 codes are organized in a hiearchy - load the hierarchy that maps each code to its depth in the hierarchy."
   ]
  },
  {
   "cell_type": "code",
   "execution_count": 15,
   "metadata": {},
   "outputs": [],
   "source": [
    "code_to_route_len = {}\n",
    "\n",
    "for line in open(CODE_ROUTE):\n",
    "    line = line.strip().split()\n",
    "    code_to_route_len[line[0]] = len(line[1].split(','))"
   ]
  },
  {
   "cell_type": "code",
   "execution_count": 16,
   "metadata": {},
   "outputs": [
    {
     "name": "stdout",
     "output_type": "stream",
     "text": [
      "Num of docs: 22815\n"
     ]
    }
   ],
   "source": [
    "print('Num of docs: ' + str(num_of_docs))"
   ]
  },
  {
   "cell_type": "markdown",
   "metadata": {},
   "source": [
    "Gather descriptive statistics on the text of documents:"
   ]
  },
  {
   "cell_type": "code",
   "execution_count": 17,
   "metadata": {},
   "outputs": [
    {
     "name": "stdout",
     "output_type": "stream",
     "text": [
      "Tokens stats (total, avg, max, min, std) 33713452 1477.68801227 8130 59 859.512012504\n"
     ]
    }
   ],
   "source": [
    "stat = map(len, all_tokens_per_doc)\n",
    "print('Tokens stats (total, avg, max, min, std)', sum(stat), mean(stat), max(stat), min(stat), std(stat))"
   ]
  },
  {
   "cell_type": "markdown",
   "metadata": {},
   "source": [
    "Gather descriptive statistics on codes (number of codes per document):"
   ]
  },
  {
   "cell_type": "code",
   "execution_count": 21,
   "metadata": {},
   "outputs": [
    {
     "name": "stdout",
     "output_type": "stream",
     "text": [
      "codes stats:\nsum 215826\nmean 9.45982905983\nmax 39\nmin 1\nstd 4.70107971489\n\n"
     ]
    }
   ],
   "source": [
    "stat = map(len, all_codes_per_doc)\n",
    "print('codes stats:\\n'+pp_stats(stat))"
   ]
  },
  {
   "cell_type": "markdown",
   "metadata": {},
   "source": [
    "Number of documents associated to each code:"
   ]
  },
  {
   "cell_type": "code",
   "execution_count": 22,
   "metadata": {},
   "outputs": [
    {
     "name": "stdout",
     "output_type": "stream",
     "text": [
      "docs per label\nsum 215826\nmean 42.8992248062\nmax 9544\nmin 1\nstd 253.05458329\n\n"
     ]
    }
   ],
   "source": [
    "code_to_num_of_docs = defaultdict(int)\n",
    "for doc in all_codes_per_doc:\n",
    "    for code in doc:\n",
    "        code_to_num_of_docs[code] += 1\n",
    "stat = code_to_num_of_docs.values()\n",
    "print('docs per label\\n'+pp_stats(stat))"
   ]
  },
  {
   "cell_type": "markdown",
   "metadata": {},
   "source": [
    "Draw histogram of number of documents associated to each code.\n",
    "\n",
    "\n",
    "We only show labels that are associated to more than 50 documents."
   ]
  },
  {
   "cell_type": "code",
   "execution_count": 23,
   "metadata": {},
   "outputs": [
    {
     "data": {
      "image/png": "[encoded data removed]",
      "text/plain": [
       "<matplotlib.figure.Figure at 0x7f67909570d0>"
      ]
     },
     "metadata": {},
     "output_type": "display_data"
    }
   ],
   "source": [
    "docs_per_label = code_to_num_of_docs.values()\n",
    "docs_per_label = filter(lambda x: x > 49, docs_per_label)\n",
    "docs_per_label.sort(reverse=True)\n",
    "plt.hist(docs_per_label, bins=len(docs_per_label))\n",
    "plt.show()"
   ]
  },
  {
   "cell_type": "markdown",
   "metadata": {},
   "source": [
    "Number of codes that are associated with more than 50 documents (out of about 7,000 codes in ICD9):"
   ]
  },
  {
   "cell_type": "code",
   "execution_count": 25,
   "metadata": {},
   "outputs": [
    {
     "name": "stdout",
     "output_type": "stream",
     "text": [
      "598\n"
     ]
    }
   ],
   "source": [
    "print(len(docs_per_label))"
   ]
  },
  {
   "cell_type": "markdown",
   "metadata": {},
   "source": [
    "Print the 50 most frequent codes:"
   ]
  },
  {
   "cell_type": "code",
   "execution_count": 27,
   "metadata": {},
   "outputs": [
    {
     "name": "stdout",
     "output_type": "stream",
     "text": [
      "50 top labels\n401.9\t6\tUnspecified essential hypertension\n414.01\t7\tCoronary atherosclerosis of native coronary artery\n427.31\t7\tAtrial fibrillation\n428.0\t6\tCongestive heart failure, unspecified\n250.00\t7\ttype II diabetes mellitus [non-insulin dependent type] [NIDDM type] [adult-onset\n272.0\t6\tPure hypercholesterolemia\n584.9\t6\tAcute renal failure, unspecified\n518.81\t7\tAcute respiratory failure\n599.0\t6\tUrinary tract infection, site not specified\n530.81\t7\tEsophageal reflux\n486\t5\tPneumonia, organism unspecified\n272.4\t6\tOther and unspecified hyperlipidemia\n285.9\t5\tAnemia, unspecified\n496\t5\tChronic airway obstruction, not elsewhere classified\n410.71\t7\tAcute myocardial infarction, subendocardial infarction, initial episode of care\n507.0\t6\tPneumonitis due to inhalation of food or vomitus\n244.9\t6\tUnspecified hypothyroidism\n285.1\t5\tAcute posthemorrhagic anemia\n424.0\t6\tMitral valve disorders\n276.2\t6\tAcidosis\n038.9\t6\tUnspecified septicemia\n997.1\t6\tCardiac complications, not elsewhere classified\n995.92\t7\tSevere sepsis\n412\t5\tOld myocardial infarction\n305.1\t6\tTobacco use disorder\n424.1\t6\tAortic valve disorders\n511.9\t6\tUnspecified pleural effusion\n411.1\t6\tIntermediate coronary syndrome\n518.5\t6\tPulmonary insufficiency following trauma and surgery\n276.5\t6\tVolume depletion\n287.5\t5\tThrombocytopenia, unspecified\n403.91\t7\tHypertensive renal disease, unspecified, with renal failure\n780.39\t7\tOther convulsions\nV45.81\t6\tPostsurgical aortocoronary bypass status\n276.1\t6\tHyposmolality and/or hyponatremia\nV58.61\t6\tEncounter for long-term (current) use of anticoagulants\n311\t5\tDepressive disorder, not elsewhere classified\n585.9\t6\tChronic kidney disease, unspecified\n427.89\t7\tOther specified cardiac dysrhythmias\n427.1\t6\tParoxysmal ventricular tachycardia\n518.0\t6\tPulmonary collapse\n785.52\t7\tSeptic shock\n584.5\t6\tAcute renal failure with lesion of tubular necrosis\n493.90\t7\tAsthma, unspecified type, without mention of status asthmaticus\n998.11\t7\tHemorrhage complicating a procedure\nV45.82\t6\tPercutaneous transluminal coronary angioplasty, postsurgical status\n276.0\t6\tHyperosmolality and/or hypernatremia\nV15.82\t6\tHistory of tobacco use\n274.9\t6\tGout, unspecified\n998.12\t7\tHematoma complicating a procedure\n"
     ]
    }
   ],
   "source": [
    "labels_count = defaultdict(int)\n",
    "for doc_labels in all_codes_per_doc:\n",
    "    for label in doc_labels:\n",
    "        labels_count[label] += 1\n",
    "count_to_label = map(lambda label: (labels_count[label], label), labels_count.keys())\n",
    "count_to_label.sort(reverse=True)\n",
    "\n",
    "top_50 = map(lambda x: x[1], count_to_label[:50])\n",
    "pprint = map(lambda x: '\\t'.join([x, str(code_to_route_len[x]), code_to_name[x][:80]]), top_50)\n",
    "print('50 top labels\\n'+'\\n'.join(pprint))"
   ]
  },
  {
   "cell_type": "heading",
   "metadata": {},
   "level": 2,
   "source": [
    "Check how similar are the distribution of codes in MIMIC2 and MIMIC3"
   ]
  },
  {
   "cell_type": "markdown",
   "metadata": {},
   "source": [
    "Gather the distribution of codes in MIMIC2 and MIMIC3 and compute the KL-Divergence between these 2 distributions."
   ]
  },
  {
   "cell_type": "code",
   "execution_count": 28,
   "metadata": {},
   "outputs": [],
   "source": [
    "import nltk\n",
    "import numpy as np\n",
    "def dict_to_probfreq(d):\n",
    "    d = nltk.FreqDist(d)\n",
    "    return nltk.SimpleGoodTuringProbDist(d), d.keys()\n",
    "\n",
    "def kl(p, q, keys):\n",
    "    return sum(map(lambda i: p.prob(i)*np.log(p.prob(i)/q.prob(i)), keys))"
   ]
  },
  {
   "cell_type": "code",
   "execution_count": 30,
   "metadata": {},
   "outputs": [
    {
     "name": "stdout",
     "output_type": "stream",
     "text": [
      "0.806212428102\n"
     ]
    }
   ],
   "source": [
    "mimic2 = defaultdict(int)\n",
    "mimic3 = defaultdict(int)\n",
    "\n",
    "for codes, tokens in mimic_doc_yielder(mimic2_file):\n",
    "    for code in codes:\n",
    "        mimic2[code] += 1\n",
    "\n",
    "for codes, tokens in mimic_doc_yielder(mimic3_file):\n",
    "    for code in codes:\n",
    "        mimic3[code] += 1\n",
    "        \n",
    "d2, keys2 = dict_to_probfreq(mimic2)\n",
    "d3, keys3 = dict_to_probfreq(mimic3)\n",
    "keys = set(keys2+keys3)\n",
    "print(kl(d3, d2, keys))"
   ]
  },
  {
   "cell_type": "markdown",
   "metadata": {},
   "source": [
    "We observe the KL-Divergence is quite small - the distributions of codes are similar across MIMIC2 and MIMIC3."
   ]
  },
  {
   "cell_type": "heading",
   "metadata": {},
   "level": 2,
   "source": [
    "Explore the Depth of ICD9 Labels used in MIMIC"
   ]
  },
  {
   "cell_type": "markdown",
   "metadata": {},
   "source": [
    "ICD9 codes are organized in a hierarchy of max depth 19.  We explore the distribution of the depth of the codes that actuaally occur in MIMIC documents."
   ]
  },
  {
   "cell_type": "code",
   "execution_count": 32,
   "metadata": {},
   "outputs": [
    {
     "name": "stdout",
     "output_type": "stream",
     "text": [
      "top label depth stats\nsum 3718\nmean 6.2910321489\nmax 8\nmin 4\nstd 0.791176457425\n\n"
     ]
    }
   ],
   "source": [
    "codes_with_more_than_k_docs = filter(lambda x: code_to_num_of_docs[x] > 50, code_to_num_of_docs.keys())\n",
    "\n",
    "stat = map(lambda x: code_to_route_len[x], codes_with_more_than_k_docs)\n",
    "print('top label depth stats\\n'+pp_stats(stat))"
   ]
  },
  {
   "cell_type": "markdown",
   "metadata": {},
   "source": [
    "We observe that ICD9 that are actually used to annotate documents in MIMIC have depth in the ICD9 hierarchy between 4 and 8 with a peak average around 6."
   ]
  },
  {
   "cell_type": "code",
   "execution_count": 33,
   "metadata": {},
   "outputs": [
    {
     "name": "stdout",
     "output_type": "stream",
     "text": [
      "top label depth stats\nsum 32299\nmean 6.41999602465\nmax 8\nmin 4\nstd 0.829484061554\n\n"
     ]
    }
   ],
   "source": [
    "stat = map(lambda x: code_to_route_len[x], code_to_num_of_docs)\n",
    "\n",
    "print('top label depth stats\\n'+pp_stats(stat))"
   ]
  },
  {
   "cell_type": "markdown",
   "metadata": {},
   "source": [
    "The distribution of depths of ICD9 codes is similar across the codes used for more than 50 documents and all codes."
   ]
  },
  {
   "cell_type": "code",
   "execution_count": null,
   "metadata": {},
   "outputs": [],
   "source": [
    ""
   ]
  }
 ],
 "metadata": {
  "kernelspec": {
   "display_name": "Python 2",
   "language": "python",
   "name": "python2"
  },
  "language_info": {
   "codemirror_mode": {
    "name": "ipython",
    "version": 2.0
   },
   "file_extension": ".py",
   "mimetype": "text/x-python",
   "name": "python",
   "nbconvert_exporter": "python",
   "pygments_lexer": "ipython2",
   "version": "2.7.6"
  }
 },
 "nbformat": 4,
 "nbformat_minor": 0
}