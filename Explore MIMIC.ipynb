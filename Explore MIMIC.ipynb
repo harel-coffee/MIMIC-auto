{
 "cells": [
  {
   "cell_type": "markdown",
   "metadata": {},
   "source": [
    "# MIMIC"
   ]
  },
  {
   "cell_type": "code",
   "execution_count": 1,
   "metadata": {},
   "outputs": [],
   "source": [
    "%matplotlib inline\n",
    "import matplotlib.pyplot as plt\n",
    "import sys\n",
    "from collections import defaultdict\n",
    "sys.path.append('/home/datasets/MIMIC/code')"
   ]
  },
  {
   "cell_type": "code",
   "execution_count": 2,
   "metadata": {
    "collapsed": true
   },
   "outputs": [],
   "source": [
    "mimic_file = '/home/datasets/MIMIC/MIMIC2/MIMIC_PREPROCESSED'\n",
    "\n",
    "from tal import mimic_doc_yielder\n",
    "\n",
    "all_codes_per_doc = []\n",
    "all_tokens_per_doc = []\n",
    "num_of_docs = 0\n",
    "for codes, tokens in mimic_doc_yielder(mimic_file):\n",
    "    all_codes_per_doc.append(codes)\n",
    "    all_tokens_per_doc.append(tokens)\n",
    "    num_of_docs += 1"
   ]
  },
  {
   "cell_type": "code",
   "execution_count": 3,
   "metadata": {},
   "outputs": [
    {
     "name": "stdout",
     "output_type": "stream",
     "text": [
      "num of docs 22815\n"
     ]
    }
   ],
   "source": [
    "print 'num of docs', num_of_docs"
   ]
  },
  {
   "cell_type": "code",
   "execution_count": 4,
   "metadata": {},
   "outputs": [
    {
     "name": "stdout",
     "output_type": "stream",
     "text": [
      "num of tokens 33713452\n"
     ]
    }
   ],
   "source": [
    "print 'num of tokens', sum(map(len, all_tokens_per_doc))"
   ]
  },
  {
   "cell_type": "code",
   "execution_count": 5,
   "metadata": {},
   "outputs": [
    {
     "name": "stdout",
     "output_type": "stream",
     "text": [
      "num of codes 215826\n"
     ]
    }
   ],
   "source": [
    "print 'num of codes', sum(map(len, all_codes_per_doc))"
   ]
  },
  {
   "cell_type": "code",
   "execution_count": 6,
   "metadata": {},
   "outputs": [
    {
     "name": "stdout",
     "output_type": "stream",
     "text": [
      "num of tokens per doc 1477\n"
     ]
    }
   ],
   "source": [
    "print 'num of tokens per doc', sum(map(len, all_tokens_per_doc))/num_of_docs"
   ]
  },
  {
   "cell_type": "code",
   "execution_count": 7,
   "metadata": {},
   "outputs": [
    {
     "name": "stdout",
     "output_type": "stream",
     "text": [
      "num of codes per doc 9\n"
     ]
    }
   ],
   "source": [
    "print 'num of codes per doc', sum(map(len, all_codes_per_doc))/num_of_docs"
   ]
  },
  {
   "cell_type": "code",
   "execution_count": 8,
   "metadata": {},
   "outputs": [
    {
     "name": "stdout",
     "output_type": "stream",
     "text": [
      "docs per label 42\n"
     ]
    }
   ],
   "source": [
    "code_to_num_of_docs = defaultdict(int)\n",
    "for doc in all_codes_per_doc:\n",
    "    for code in doc:\n",
    "        code_to_num_of_docs[code] += 1\n",
    "print 'docs per label', sum(code_to_num_of_docs.values())/len(code_to_num_of_docs)"
   ]
  },
  {
   "cell_type": "code",
   "execution_count": 12,
   "metadata": {},
   "outputs": [
    {
     "data": {
      "image/png": "[encoded data removed]",
      "text/plain": [
       "<matplotlib.figure.Figure at 0x7f3b7b149790>"
      ]
     },
     "metadata": {},
     "output_type": "display_data"
    }
   ],
   "source": [
    "docs_per_label = code_to_num_of_docs.values()\n",
    "docs_per_label.sort(reverse=True)\n",
    "plt.hist(docs_per_label, bins=len(docs_per_label))\n",
    "plt.show()"
   ]
  },
  {
   "cell_type": "code",
   "execution_count": null,
   "metadata": {},
   "outputs": [],
   "source": [
    ""
   ]
  }
 ],
 "metadata": {
  "kernelspec": {
   "display_name": "Python 2",
   "language": "python",
   "name": "python2"
  },
  "language_info": {
   "codemirror_mode": {
    "name": "ipython",
    "version": 2.0
   },
   "file_extension": ".py",
   "mimetype": "text/x-python",
   "name": "python",
   "nbconvert_exporter": "python",
   "pygments_lexer": "ipython2",
   "version": "2.7.6"
  }
 },
 "nbformat": 4,
 "nbformat_minor": 0
}