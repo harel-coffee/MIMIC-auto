{
 "cells": [
  {
   "cell_type": "code",
   "execution_count": 56,
   "metadata": {},
   "outputs": [],
   "source": [
    "import spacy\n",
    "import sys\n",
    "import pickle\n",
    "import numpy as np\n",
    "from collections import defaultdict\n",
    "nlp = spacy.load('en')"
   ]
  },
  {
   "cell_type": "code",
   "execution_count": 57,
   "metadata": {
    "scrolled": true
   },
   "outputs": [],
   "source": [
    "v = '2'\n",
    "\n",
    "path = 'mimic/' + v + '/MIMIC_FILTERED_DSUMS'\n",
    "\n",
    "labels = []\n",
    "texts = []\n",
    "for line in open(path, encoding='utf-8'):\n",
    "    line = line.strip().split('|')\n",
    "    labels.append(set([label for label in line[0].split(',')]))\n",
    "    texts.append(line[1])\n",
    "\n",
    "x = []\n",
    "y = []\n",
    "\n",
    "all_words = set()\n",
    "all_labels = defaultdict(set)\n",
    "\n",
    "for i, doc in enumerate(nlp.pipe(texts, n_threads=40)):\n",
    "    for label in labels[i]:\n",
    "        \n",
    "        label = label.split('.')\n",
    "        if len(label) == 2:\n",
    "            all_labels[label[0]].add(label[1])\n",
    "        else:\n",
    "            all_labels[label[0]].add('-1')\n",
    "    x_doc = []\n",
    "    for sent in doc.sents:\n",
    "        x_sent = []\n",
    "        for word in sent:\n",
    "            word = str(word)\n",
    "            all_words.add(word)\n",
    "            x_sent.append(word)\n",
    "        x_doc.append(x_sent)\n",
    "    \n",
    "    x.append(x_doc)\n",
    "    y.append(labels[i])"
   ]
  },
  {
   "cell_type": "code",
   "execution_count": 58,
   "metadata": {},
   "outputs": [],
   "source": [
    "all_cats = list(all_labels.keys())\n",
    "all_words = list(all_words)\n",
    "l_to_ints = {}\n",
    "for i, cat in enumerate(all_labels.keys()):\n",
    "    for j, label in enumerate(all_labels[cat]):\n",
    "        if label == '-1':\n",
    "            l_to_ints[cat] = (i, j)\n",
    "        else:\n",
    "            l_to_ints[cat+'.'+label] = (i, j)\n",
    "\n",
    "w_to_int = {word: i for i, word in enumerate(all_words)}"
   ]
  },
  {
   "cell_type": "code",
   "execution_count": 59,
   "metadata": {},
   "outputs": [],
   "source": [
    "y = [[l_to_ints[l] for l in doc]for doc in y]\n",
    "x = [[[w_to_int[w] for w in sent] for sent in doc]for doc in x]"
   ]
  },
  {
   "cell_type": "code",
   "execution_count": 60,
   "metadata": {},
   "outputs": [],
   "source": [
    "with open('mimic/'+v+'unrolled.p',mode='wb') as fp:\n",
    "    data = (x, y, all_words, all_labels, all_cats)\n",
    "    pickle.dump(data, fp)"
   ]
  },
  {
   "cell_type": "code",
   "execution_count": null,
   "metadata": {
    "collapsed": true
   },
   "outputs": [],
   "source": []
  }
 ],
 "metadata": {
  "kernelspec": {
   "display_name": "Python 3",
   "language": "python",
   "name": "python3"
  },
  "language_info": {
   "codemirror_mode": {
    "name": "ipython",
    "version": 3
   },
   "file_extension": ".py",
   "mimetype": "text/x-python",
   "name": "python",
   "nbconvert_exporter": "python",
   "pygments_lexer": "ipython3",
   "version": "3.5.2"
  }
 },
 "nbformat": 4,
 "nbformat_minor": 1
}
